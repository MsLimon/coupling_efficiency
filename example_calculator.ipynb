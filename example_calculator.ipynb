{
 "cells": [
  {
   "cell_type": "markdown",
   "metadata": {},
   "source": [
    "# Calculate the coupling efficiency between a laser diode and a waveguide"
   ]
  },
  {
   "cell_type": "markdown",
   "metadata": {},
   "source": [
    "The calculation of the coupling efficiency shown in this script is based on the information found [here](https://is.gd/XRjN6o)"
   ]
  },
  {
   "cell_type": "markdown",
   "metadata": {},
   "source": [
    "## 1. Import all the necessary packages. The package efficiency containts the definitions of the classes: SquaredWaveguide, LaserDiode and Calculator"
   ]
  },
  {
   "cell_type": "code",
   "execution_count": 1,
   "metadata": {},
   "outputs": [],
   "source": [
    "import efficiency as ef\n",
    "import numpy as np\n",
    "import numpy.random as rnd\n",
    "import matplotlib.pyplot as plt\n",
    "import seaborn as sns\n",
    "from matplotlib.patches import Ellipse"
   ]
  },
  {
   "cell_type": "markdown",
   "metadata": {},
   "source": [
    "## 2. Create an instance of a waveguide with a square cross-section.\n",
    "\n",
    "### Waveguide parameters\n",
    "\n",
    "**n_core**: index of refraction of the waveguide's core.\n",
    "\n",
    "**n_clad**: index of refraction of the waveguide's cladding.\n",
    "\n",
    "**core_thickness**: thickness of the core layer. Units: um\n",
    "\n",
    "**clad_thickness**: thickness of the cladding layer. Units: um\n",
    "\n",
    "We create an instance of a a waveguide with a square cross-section which is stored in the variable waveguide1 with\n",
    "\n",
    "```python\n",
    "waveguide1 = efficiency.SquaredWaveguide(n_core, n_clad, core_thickness, clad_thickness)\n",
    "```\n"
   ]
  },
  {
   "cell_type": "code",
   "execution_count": 2,
   "metadata": {},
   "outputs": [
    {
     "name": "stdout",
     "output_type": "stream",
     "text": [
      "Waveguide's acceptance angle: theta = 21.46232368665197 deg\n",
      "Laser diode's power distribution coefficients: L = 224.0 and T = 26.0\n",
      "The geometrical factor for coupling efficiency is: 1 for a separation of x = 5 um\n",
      "The Fresnel factor for coupling efficiency is: 0.9587149410326821\n",
      "The angular factor for coupling efficiency is: 0.925386023742043\n",
      "The total coupling efficiency at x = 5 is: 0.8871814071843209\n"
     ]
    }
   ],
   "source": [
    "# Here: a waveguide with core material AF32 glass (n=1.51) and cladding material SiO2 (n=1.465)\n",
    "waveguide1 = ef.SquaredWaveguide(1.51, 1.465, 50, 1)\n",
    "waveguide2 = ef.SquaredWaveguide(1.51, 1.465, 30, 1)\n",
    "\n",
    "# make a list of the lasers so that we can iterate over them\n",
    "waveguides = [waveguide1, waveguide2]\n",
    "# select a waveguide\n",
    "chosen_waveguide = waveguides[0]\n",
    "\n",
    "# calculate the acceptance angle and print the resulting  value\n",
    "theta_deg = np.rad2deg(chosen_waveguide.theta)\n",
    "print(f\"Waveguide's acceptance angle: theta = {theta_deg} deg\")\n",
    "\n",
    "# create an instance of a laser diode.\n",
    "\n",
    "# Laser parameters\n",
    "# --------------------\n",
    "# lda: wavelength.\n",
    "# fwhm_slow: Full width at half maximum on the slow axis. Units: deg\n",
    "# fwhm_fast: Full width at half maximum on the fast axis. Units: deg\n",
    "# width: width of the emitting surface. Units: um\n",
    "# height: height of the emitting surface. Units: um\n",
    "\n",
    "# we create an instance of a laser diode which is stored in the variable laser1 with\n",
    "# laser1 = efficiency.LaserDiode(lda, fwhm_slow, fwhm_fast, width, height)\n",
    "\n",
    "# Here: GNx blue laser diode\n",
    "# laser1 = ef.LaserDiode(405,9,26,2,0.4)\n",
    "laser1 = ef.LaserDiode(405, 9, 26)\n",
    "# CHIP-980-P50 infrared\n",
    "laser2 = ef.LaserDiode(980, 13, 30)\n",
    "# 650nm Red Laser Diode Chips for DVD\n",
    "laser3 = ef.LaserDiode(655, 8, 28)\n",
    "# communications laser 1550nm wavelength\n",
    "laser4 = ef.LaserDiode(1550, 9, 28)\n",
    "\n",
    "# make a list of the lasers so that we can iterate over them\n",
    "lasers = [laser1, laser2, laser3, laser4]\n",
    "# pick laser by index on the laser list\n",
    "chosen_laser = lasers[0]\n",
    "\n",
    "print(f\"Laser diode's power distribution coefficients: L = {chosen_laser.l_coefficient} and T = {chosen_laser.t_coefficient}\")\n",
    "\n",
    "# make an instance of the efficiency calculator. That is, we bring together the information of the laser\n",
    "# diode and the waveguide, so that the program can calculate the coupling efficiency\n",
    "calc = ef.Calculator(chosen_waveguide, chosen_laser)\n",
    "\n",
    "# once we have the calculator instance we can calculate the coupling efficiency\n",
    "# first, we select the separation distance\n",
    "x = 5\n",
    "# calculate efficiency factors\n",
    "n_geom = calc.geometrical_losses(x)\n",
    "n_fresnel = calc.fresnel_losses()\n",
    "n_angular = calc.angular_losses()\n",
    "# calculate total efficiency\n",
    "n_total = calc.total_efficiency(x)\n",
    "\n",
    "# print the results\n",
    "print(f\"The geometrical factor for coupling efficiency is: {n_geom} for a separation of x = {x} um\")\n",
    "print(f\"The Fresnel factor for coupling efficiency is: {n_fresnel}\")\n",
    "print(f\"The angular factor for coupling efficiency is: {n_angular}\")\n",
    "print(f\"The total coupling efficiency at x = {x} is: {n_total}\")"
   ]
  },
  {
   "cell_type": "code",
   "execution_count": 3,
   "metadata": {},
   "outputs": [
    {
     "name": "stdout",
     "output_type": "stream",
     "text": [
      "Laser diode spot size at x = 5: 1.1354143834602242 um * 2.3313152890104694 um \n"
     ]
    },
    {
     "data": {
      "image/png": "[encoded data removed]",
      "text/plain": [
       "<matplotlib.figure.Figure at 0x5ce94a8>"
      ]
     },
     "metadata": {},
     "output_type": "display_data"
    }
   ],
   "source": [
    "    # Besides calculating the total efficiency, we would like to get an idea of the size of the light spot on the\n",
    "    # input surface of the waveguide. To do that, we first calculate and print this values and then we make a plot of\n",
    "    # the corresponding ellipse.\n",
    "\n",
    "    # calculate the values of the beam half width at a distance x and print the values\n",
    "    wo_s, wo_f = chosen_laser.calculate_beam_width(x)\n",
    "    print(f\"Laser diode spot size at x = {x}: {wo_s} um * {wo_f} um \")\n",
    "\n",
    "    # activate seaborn plotting (nicer plots)\n",
    "    sns.set()\n",
    "    sns.set_style(\"whitegrid\")\n",
    "\n",
    "    # plot the ellipse at the distance x to inspect the shape of the laser diode profile\n",
    "    plt.figure()\n",
    "    ax = plt.gca()\n",
    "    # ax.set_xlim([-wo_s, wo_s])\n",
    "    # ax.set_ylim([-wo_f, wo_f])\n",
    "    ax.set_xlim([-10, 10])\n",
    "    ax.set_ylim([-10, 10])\n",
    "    plt.xlabel('x / um')\n",
    "    plt.ylabel('y / um')\n",
    "\n",
    "    # ellipse = Ellipse(xy=(0, 0), width=wo_s, height=wo_f,\n",
    "    #                   edgecolor='b', fc='None', lw=2)\n",
    "    ellipse = Ellipse(xy=(0, 0), width=wo_s, height=wo_f,\n",
    "                      fc='None')\n",
    "    ax.add_patch(ellipse)\n",
    "    ellipse.set_facecolor(rnd.rand(3))\n",
    "\n",
    "    plt.show()"
   ]
  },
  {
   "cell_type": "code",
   "execution_count": null,
   "metadata": {},
   "outputs": [],
   "source": []
  }
 ],
 "metadata": {
  "kernelspec": {
   "display_name": "Python 3",
   "language": "python",
   "name": "python3"
  },
  "language_info": {
   "codemirror_mode": {
    "name": "ipython",
    "version": 3
   },
   "file_extension": ".py",
   "mimetype": "text/x-python",
   "name": "python",
   "nbconvert_exporter": "python",
   "pygments_lexer": "ipython3",
   "version": "3.6.3"
  }
 },
 "nbformat": 4,
 "nbformat_minor": 2
}
