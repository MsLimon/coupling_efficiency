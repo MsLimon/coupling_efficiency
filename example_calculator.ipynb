{
 "cells": [
  {
   "cell_type": "markdown",
   "metadata": {},
   "source": [
    "# Calculate the coupling efficiency between a laser diode and a waveguide in Python"
   ]
  },
  {
   "cell_type": "markdown",
   "metadata": {},
   "source": [
    "The calculation of the coupling efficiency shown in this script is based on the information found [here](https://is.gd/XRjN6o). Modifications were made to the geometrical efficiency factor to allow calculations of the coupling efficiency when the laser diode and the waveguide are separated by some distance."
   ]
  },
  {
   "cell_type": "markdown",
   "metadata": {},
   "source": [
    "## 1. Import all the necessary packages. The package \"efficiency\" containts the definitions of the classes (SquaredWaveguide, LaserDiode and Calculator) that are used in this script"
   ]
  },
  {
   "cell_type": "code",
   "execution_count": 1,
   "metadata": {},
   "outputs": [],
   "source": [
    "import efficiency as ef\n",
    "import numpy as np\n",
    "import numpy.random as rnd\n",
    "import matplotlib.pyplot as plt\n",
    "import seaborn as sns\n",
    "from matplotlib.patches import Ellipse"
   ]
  },
  {
   "cell_type": "markdown",
   "metadata": {},
   "source": [
    "## 2. Create an instance of a waveguide with a square cross-section.\n",
    "\n",
    "The parameters/inital attributes of the waveguide are:\n",
    "\n",
    "**n_core **: _index of refraction of the waveguide's core._\n",
    "\n",
    "**n_clad**: _index of refraction of the waveguide's cladding._\n",
    "\n",
    "**core_thickness**: _thickness of the core layer. Units: um_\n",
    "\n",
    "**clad_thickness**: _thickness of the cladding layer. Units: um_\n",
    "\n",
    "\n",
    "We create an instance of a a waveguide with a square cross-section which is stored in the variable waveguide1 with\n",
    "\n",
    "```python\n",
    "waveguide1 = efficiency.SquaredWaveguide(n_core, n_clad, core_thickness, clad_thickness)\n",
    "```\n"
   ]
  },
  {
   "cell_type": "code",
   "execution_count": 2,
   "metadata": {},
   "outputs": [],
   "source": [
    "# Here: a waveguide with core material AF32 glass (n=1.51) and cladding material SiO2 (n=1.465)\n",
    "waveguide1 = ef.SquaredWaveguide(1.51, 1.465, 50, 1)  # with 50um thickness\n",
    "waveguide2 = ef.SquaredWaveguide(1.51, 1.465, 30, 1)  # with 30um thickness\n",
    "\n",
    "# make a list of the lasers so that we can iterate over them\n",
    "waveguides = [waveguide1, waveguide2]\n",
    "# select a waveguide\n",
    "chosen_waveguide = waveguides[0]"
   ]
  },
  {
   "cell_type": "markdown",
   "metadata": {},
   "source": [
    "Inspect the acceptance angle of the chosen waveguide"
   ]
  },
  {
   "cell_type": "code",
   "execution_count": 3,
   "metadata": {},
   "outputs": [
    {
     "name": "stdout",
     "output_type": "stream",
     "text": [
      "Waveguide's acceptance angle: theta = 21.46232368665197 deg\n"
     ]
    }
   ],
   "source": [
    "# calculate the acceptance angle and print the resulting  value\n",
    "theta_deg = np.rad2deg(chosen_waveguide.theta)\n",
    "print(f\"Waveguide's acceptance angle: theta = {theta_deg} deg\")"
   ]
  },
  {
   "cell_type": "markdown",
   "metadata": {},
   "source": [
    "## 3. Create an instance of a laser diode.\n",
    "\n",
    "The parameters/inital attributes of the laser diode are:\n",
    "\n",
    "**lda**: _wavelength_.\n",
    "\n",
    "**fwhm_slow**: _Full width at half maximum on the slow axis. Units: deg_\n",
    "\n",
    "**fwhm_fast**: _Full width at half maximum on the fast axis. Units: deg_\n",
    "\n",
    "\n",
    "We create an instance of a laser diode which is stored in the variable laser1 with\n",
    "\n",
    "```python\n",
    "laser1 = efficiency.LaserDiode(lda, fwhm_slow, fwhm_fast)\n",
    "```"
   ]
  },
  {
   "cell_type": "code",
   "execution_count": 4,
   "metadata": {},
   "outputs": [],
   "source": [
    "# Here: GNx blue laser diode\n",
    "laser1 = ef.LaserDiode(405, 9, 26)\n",
    "# CHIP-980-P50 infrared\n",
    "laser2 = ef.LaserDiode(980, 13, 30)\n",
    "# 650nm Red Laser Diode Chips for DVD\n",
    "laser3 = ef.LaserDiode(655, 8, 28)\n",
    "# communications laser 1550nm wavelength\n",
    "laser4 = ef.LaserDiode(1550, 9, 28)\n",
    "\n",
    "# make a list of the lasers so that we can iterate over them\n",
    "lasers = [laser1, laser2, laser3, laser4]\n",
    "# pick laser by index on the laser list\n",
    "chosen_laser = lasers[0]"
   ]
  },
  {
   "cell_type": "markdown",
   "metadata": {},
   "source": [
    "Inspect someof the derived parameters of the chosen laser diode, e.g. the power distribution coefficients L and T."
   ]
  },
  {
   "cell_type": "code",
   "execution_count": 5,
   "metadata": {},
   "outputs": [
    {
     "name": "stdout",
     "output_type": "stream",
     "text": [
      "Laser diode's power distribution coefficients: L = 224.0and T = 26.0\n"
     ]
    }
   ],
   "source": [
    "print(f\"Laser diode's power distribution coefficients: L = {chosen_laser.l_coefficient}\"\n",
    "      f\"and T = {chosen_laser.t_coefficient}\")"
   ]
  },
  {
   "cell_type": "markdown",
   "metadata": {},
   "source": [
    "## 4. Create and instance of the efficiency calculator \n",
    "\n",
    "That is, we bring together the information of the laser diode and the waveguide, so that the program can calculate the coupling efficiency"
   ]
  },
  {
   "cell_type": "code",
   "execution_count": 6,
   "metadata": {},
   "outputs": [],
   "source": [
    "calc = ef.Calculator(chosen_waveguide, chosen_laser)"
   ]
  },
  {
   "cell_type": "markdown",
   "metadata": {},
   "source": [
    "Before calculating the coupling efficiency we should select the separation distance x between the laser diode and the waveguide. If no distance is specified this value is set to zero by default. "
   ]
  },
  {
   "cell_type": "code",
   "execution_count": 7,
   "metadata": {},
   "outputs": [],
   "source": [
    "x = 5 # we calculate the efficiency for a separation distance of 5um"
   ]
  },
  {
   "cell_type": "markdown",
   "metadata": {},
   "source": [
    "Now we calculate first the different efficiency factors separately, and then we calculate the total efficiency."
   ]
  },
  {
   "cell_type": "code",
   "execution_count": 8,
   "metadata": {},
   "outputs": [],
   "source": [
    "# calculate efficiency factors\n",
    "n_geom = calc.geometrical_losses(x)\n",
    "n_fresnel = calc.fresnel_losses()\n",
    "n_angular = calc.angular_losses()\n",
    "# calculate total efficiency\n",
    "n_total = calc.total_efficiency(x)"
   ]
  },
  {
   "cell_type": "markdown",
   "metadata": {},
   "source": [
    "Finally, we print these values to see the results."
   ]
  },
  {
   "cell_type": "code",
   "execution_count": 9,
   "metadata": {},
   "outputs": [
    {
     "name": "stdout",
     "output_type": "stream",
     "text": [
      "The geometrical factor for coupling efficiency is: 1 for a separation of x = 5 um\n",
      "The Fresnel factor for coupling efficiency is: 0.9587149410326821\n",
      "The angular factor for coupling efficiency is: 0.925386023742043\n",
      "The total coupling efficiency at x = 5 is: 0.8871814071843209\n"
     ]
    }
   ],
   "source": [
    "# print the results\n",
    "print(f\"The geometrical factor for coupling efficiency is: {n_geom} for a separation of x = {x} um\")\n",
    "print(f\"The Fresnel factor for coupling efficiency is: {n_fresnel}\")\n",
    "print(f\"The angular factor for coupling efficiency is: {n_angular}\")\n",
    "print(f\"The total coupling efficiency at x = {x} is: {n_total}\")"
   ]
  },
  {
   "cell_type": "markdown",
   "metadata": {},
   "source": [
    "## 5. Additional inspection of the laser parameters\n",
    "\n",
    "Besides calculating the total efficiency, we would like to get an idea of the size of the light spot on the\n",
    "input surface of the waveguide. \n",
    "\n",
    "To do that, we first calculate the beam half width at a distance x from the laser origin."
   ]
  },
  {
   "cell_type": "code",
   "execution_count": 10,
   "metadata": {},
   "outputs": [],
   "source": [
    "# calculate the values of the beam half width at a distance x and print the values\n",
    "wo_s, wo_f = chosen_laser.calculate_beam_width(x)"
   ]
  },
  {
   "cell_type": "markdown",
   "metadata": {},
   "source": [
    "We print the calculated values to see the results."
   ]
  },
  {
   "cell_type": "code",
   "execution_count": 11,
   "metadata": {},
   "outputs": [
    {
     "name": "stdout",
     "output_type": "stream",
     "text": [
      "Laser diode spot size at x = 5: 1.1354143834602242 um * 2.3313152890104694 um \n"
     ]
    }
   ],
   "source": [
    "print(f\"Laser diode spot size at x = {x}: {wo_s} um * {wo_f} um \")"
   ]
  },
  {
   "cell_type": "markdown",
   "metadata": {},
   "source": [
    "Once we have this, we can plot the corresponding ellipse as follows:"
   ]
  },
  {
   "cell_type": "code",
   "execution_count": 12,
   "metadata": {},
   "outputs": [
    {
     "data": {
      "image/png": "[encoded data removed]",
      "text/plain": [
       "<matplotlib.figure.Figure at 0x5ec94a8>"
      ]
     },
     "metadata": {},
     "output_type": "display_data"
    }
   ],
   "source": [
    "# activate seaborn plotting (nicer plots)\n",
    "sns.set()\n",
    "sns.set_style(\"whitegrid\")\n",
    "\n",
    "# plot the ellipse at the distance x to inspect the shape of the laser diode profile\n",
    "plt.figure()\n",
    "ax = plt.gca()\n",
    "# ax.set_xlim([-wo_s, wo_s])\n",
    "# ax.set_ylim([-wo_f, wo_f])\n",
    "ax.set_xlim([-10, 10])\n",
    "ax.set_ylim([-10, 10])\n",
    "plt.xlabel('x / um')\n",
    "plt.ylabel('y / um')\n",
    "\n",
    "# ellipse = Ellipse(xy=(0, 0), width=wo_s, height=wo_f,\n",
    "#                   edgecolor='b', fc='None', lw=2)\n",
    "ellipse = Ellipse(xy=(0, 0), width=wo_s, height=wo_f,\n",
    "                  fc='None')\n",
    "ax.add_patch(ellipse)\n",
    "ellipse.set_facecolor(rnd.rand(3))\n",
    "\n",
    "plt.show()"
   ]
  }
 ],
 "metadata": {
  "kernelspec": {
   "display_name": "Python 3",
   "language": "python",
   "name": "python3"
  },
  "language_info": {
   "codemirror_mode": {
    "name": "ipython",
    "version": 3
   },
   "file_extension": ".py",
   "mimetype": "text/x-python",
   "name": "python",
   "nbconvert_exporter": "python",
   "pygments_lexer": "ipython3",
   "version": "3.6.3"
  }
 },
 "nbformat": 4,
 "nbformat_minor": 2
}
