{
 "cells": [
  {
   "cell_type": "markdown",
   "metadata": {},
   "source": [
    "# Definitions to calculate coupling efficiency\n",
    "\n",
    "The calculation of the coupling efficiency shown in this script is based on the information found [here](https://is.gd/XRjN6o). Modifications were made to the geometrical efficiency factor to allow calculations of the coupling efficiency when the laser diode and the waveguide are separated by some distance.\n",
    "\n",
    "In order to use this package (the definitions shown in this script) you have to place the file \"efficiency.py\" in the same folder of the script that is going to use the definitions and functions defined here. In addition, at the beggining of your script, this this package has to be imported with the following command\n",
    "\n",
    "```python\n",
    "import efficiency as ef\n",
    "```\n",
    "\n",
    "Once this is done, the classes and methods from this package can be access preceded by the prefix ef.\n",
    "\n",
    "For example to create an instance of a square waveguide we use:\n",
    "```python\n",
    "waveguide1 = ef.SquaredWaveguide(n_core, n_clad, core_thickness, clad_thickness)\n",
    "```\n"
   ]
  },
  {
   "cell_type": "markdown",
   "metadata": {},
   "source": [
    "## 1. Import all the necessary packages \n",
    "\n",
    "The following python packages should be installed (dependencies):\n",
    "- numpy\n",
    "\n",
    "Once this packages are installed, we import them into our script with the following commands"
   ]
  },
  {
   "cell_type": "code",
   "execution_count": null,
   "metadata": {},
   "outputs": [],
   "source": [
    "import numpy as np"
   ]
  },
  {
   "cell_type": "markdown",
   "metadata": {},
   "source": [
    "## 2. Define the SquareWaveguide class\n",
    "\n",
    "This class allows to have a general definition of a waveguide with a squared cross-section, which depends on some inital parameters, like the indices of refractions of the core and cladding, and to automaticatically derive some values (e.g. the acceptance angle) once the initial parameters are introduced.\n",
    "\n",
    "The inital parameters/attributes of the waveguide are:\n",
    "\n",
    "**n_core **: _index of refraction of the waveguide's core._\n",
    "\n",
    "**n_clad**: _index of refraction of the waveguide's cladding._\n",
    "\n",
    "**core_thickness**: _thickness of the core layer. Units: um_\n",
    "\n",
    "**clad_thickness**: _thickness of the cladding layer. Units: um_\n",
    "\n",
    "\n",
    "Later, we can create an instance of a a waveguide with a square cross-section and store it in the variable waveguide1 with\n",
    "\n",
    "```python\n",
    "waveguide1 = ef.SquaredWaveguide(n_core, n_clad, core_thickness, clad_thickness)\n",
    "```\n"
   ]
  },
  {
   "cell_type": "markdown",
   "metadata": {},
   "source": [
    "The function/method \"get_acceptance_angle()\" is defined inside the class to calculate the acceptance angle.\n",
    "\n",
    "### Acceptance angle\n",
    "\n",
    "To calculate the acceptance angle, first the numerical apperture NA is calculated as:"
   ]
  },
  {
   "cell_type": "code",
   "execution_count": 3,
   "metadata": {},
   "outputs": [
    {
     "data": {
      "text/latex": [
       "$$NA = \\sqrt{n_{core}^2-n_{cladd.}^2}$$"
      ],
      "text/plain": [
       "<IPython.core.display.Latex object>"
      ]
     },
     "metadata": {},
     "output_type": "display_data"
    }
   ],
   "source": [
    "%%latex \n",
    "$$NA = \\sqrt{n_{core}^2-n_{cladd.}^2}$$"
   ]
  },
  {
   "cell_type": "markdown",
   "metadata": {},
   "source": [
    "Once that we have the NA, the acceptance angle can be calculated as:"
   ]
  },
  {
   "cell_type": "code",
   "execution_count": 13,
   "metadata": {},
   "outputs": [
    {
     "data": {
      "text/latex": [
       "$$\\theta_{0,max} = \\arcsin({NA})$$"
      ],
      "text/plain": [
       "<IPython.core.display.Latex object>"
      ]
     },
     "metadata": {},
     "output_type": "display_data"
    }
   ],
   "source": [
    "%%latex \n",
    "$$\\theta_{0,max} = \\arcsin({NA})$$"
   ]
  },
  {
   "cell_type": "code",
   "execution_count": null,
   "metadata": {},
   "outputs": [],
   "source": [
    "class SquaredWaveguide(object):\n",
    "    \"\"\"\n",
    "    A waveguide with a squared cross section.\n",
    "\n",
    "    class input attributes\n",
    "    ----------------------\n",
    "    n_core: index of refraction of the waveguide's core.\n",
    "    n_clad: index of refraction of the waveguide's cladding.\n",
    "    core_thickness: thickness of the core layer. Units: um\n",
    "    clad_thickness: thickness of the cladding layer. Units: um\n",
    "    \"\"\"\n",
    "    def __init__(self, n_core, n_clad, core_thickness, clad_thickness):\n",
    "        # TODO - check for validity and units.\n",
    "        # basic parameters\n",
    "        self.n_core = n_core\n",
    "        self.n_clad = n_clad\n",
    "        self.core_thickness = core_thickness\n",
    "        self.clad_thickness = clad_thickness\n",
    "        # calculate additional parameters\n",
    "        self.theta = self.get_acceptance_angle()  # acceptance angle\n",
    "\n",
    "    def get_acceptance_angle(self):\n",
    "        # calculate numerical aperture\n",
    "        na = np.sqrt(self.n_core**2 - self.n_clad**2)\n",
    "        # derive acceptance angle from numerical aperture\n",
    "        theta = np.arcsin(na)  # theta is in rad\n",
    "        return theta"
   ]
  },
  {
   "cell_type": "markdown",
   "metadata": {},
   "source": [
    "## 3. Define the LaserDiode class\n",
    "\n",
    "Similarly to the case of the waveguide, this allows to have a general definition of the laser diode and to automatically calculate some properties of the laser once the intial attributes of the laser are defined.\n",
    "\n",
    "The inital parameters/attributes of the laser diode are:\n",
    "\n",
    "**lda**: _wavelength_.\n",
    "\n",
    "**fwhm_slow**: _Full width at half maximum on the slow axis. Units: deg_\n",
    "\n",
    "**fwhm_fast**: _Full width at half maximum on the fast axis. Units: deg_\n",
    "\n",
    "\n",
    "We create an instance of a laser diode which is stored in the variable laser1 with\n",
    "\n",
    "```python\n",
    "laser1 = ef.LaserDiode(lda, fwhm_slow, fwhm_fast)\n",
    "```\n",
    "\n",
    "The functions/methods \"get_power_distribution_coefficient()\" and \"get_gaussian_beam_parameters()\"\n",
    "are defined inside the class to calculate the power distribution coefficients and the Gaussian beam parameter respectively.\n",
    "\n",
    "In addition, the function \"calculate_beam_width(x)\" is defined to calculate the beam width at a distance x from the source.\n",
    "\n",
    "### Power Distribution Coefficient \n",
    "The power distribution coefficients are used to describe the power angular distribution (radiance, B) of the light emitted by the laser diode.\n",
    "\n",
    "The source is assumed to have sinusoidal power angular intensity distribution (circularly symmetric), which is given by the expression:"
   ]
  },
  {
   "cell_type": "code",
   "execution_count": 24,
   "metadata": {},
   "outputs": [
    {
     "data": {
      "text/latex": [
       "$$B(\\theta) = B_0 (\\cos{\\theta})^m$$"
      ],
      "text/plain": [
       "<IPython.core.display.Latex object>"
      ]
     },
     "metadata": {},
     "output_type": "display_data"
    }
   ],
   "source": [
    "%%latex \n",
    "$$B(\\theta) = B_0 (\\cos{\\theta})^m$$"
   ]
  },
  {
   "cell_type": "markdown",
   "metadata": {},
   "source": [
    "The coefficient _**m**_ can be calculated from the FMHM as follows: "
   ]
  },
  {
   "cell_type": "code",
   "execution_count": 10,
   "metadata": {},
   "outputs": [
    {
     "data": {
      "text/latex": [
       "$$m = \\frac{\\log(0.5)}{\\log(\\cos(\\frac{FWHM}{2}))}$$"
      ],
      "text/plain": [
       "<IPython.core.display.Latex object>"
      ]
     },
     "metadata": {},
     "output_type": "display_data"
    }
   ],
   "source": [
    "%%latex \n",
    "$$m = \\frac{\\log(0.5)}{\\log(\\cos(\\frac{FWHM}{2}))}$$"
   ]
  },
  {
   "cell_type": "markdown",
   "metadata": {},
   "source": [
    "### Gaussian beam parameters\n",
    "The Gaussian beam parameter are calculated as follows:\n",
    "\n",
    "Half divergence angle:"
   ]
  },
  {
   "cell_type": "code",
   "execution_count": 19,
   "metadata": {},
   "outputs": [
    {
     "data": {
      "text/latex": [
       "$$  \\theta = \\frac{\\sqrt{2} \\cdot FWHM}{2 \\cdot \\log(2)} $$"
      ],
      "text/plain": [
       "<IPython.core.display.Latex object>"
      ]
     },
     "metadata": {},
     "output_type": "display_data"
    }
   ],
   "source": [
    "%%latex \n",
    "$$  \\theta = \\frac{\\sqrt{2} \\cdot FWHM}{2 \\cdot \\log(2)} $$"
   ]
  },
  {
   "cell_type": "markdown",
   "metadata": {},
   "source": [
    "Minimum half width:"
   ]
  },
  {
   "cell_type": "code",
   "execution_count": 21,
   "metadata": {},
   "outputs": [
    {
     "data": {
      "text/latex": [
       "$$ w_0 = \\frac{\\lambda}{\\pi \\cdot \\theta} $$"
      ],
      "text/plain": [
       "<IPython.core.display.Latex object>"
      ]
     },
     "metadata": {},
     "output_type": "display_data"
    }
   ],
   "source": [
    "%%latex \n",
    "$$ w_0 = \\frac{\\lambda}{\\pi \\cdot \\theta} $$"
   ]
  },
  {
   "cell_type": "markdown",
   "metadata": {},
   "source": [
    "Rayleight range:"
   ]
  },
  {
   "cell_type": "code",
   "execution_count": 23,
   "metadata": {},
   "outputs": [
    {
     "data": {
      "text/latex": [
       "$$    x_0 = \\frac{\\pi \\cdot w_0^2}{\\lambda} $$"
      ],
      "text/plain": [
       "<IPython.core.display.Latex object>"
      ]
     },
     "metadata": {},
     "output_type": "display_data"
    }
   ],
   "source": [
    "%%latex\n",
    "$$    x_0 = \\frac{\\pi \\cdot w_0^2}{\\lambda} $$"
   ]
  },
  {
   "cell_type": "markdown",
   "metadata": {},
   "source": [
    "### Calculate the beam width at a distance x from the source\n",
    "\n",
    "Once we have the Gaussian beam parameters, we can calculate the beam half width at a distance x from the source. This is done by using the expression:"
   ]
  },
  {
   "cell_type": "code",
   "execution_count": 4,
   "metadata": {},
   "outputs": [
    {
     "data": {
      "text/latex": [
       "$$w(x) = w_0 \\cdot \\sqrt{1 + \\left(\\frac{x}{x_o}\\right)^2}$$"
      ],
      "text/plain": [
       "<IPython.core.display.Latex object>"
      ]
     },
     "metadata": {},
     "output_type": "display_data"
    }
   ],
   "source": [
    "%%latex\n",
    "$$w(x) = w_0 \\cdot \\sqrt{1 + \\left(\\frac{x}{x_o}\\right)^2}$$"
   ]
  },
  {
   "cell_type": "code",
   "execution_count": 1,
   "metadata": {},
   "outputs": [],
   "source": [
    "class LaserDiode(object):\n",
    "    \"\"\"\n",
    "    A laser diode object.\n",
    "\n",
    "    class input attributes (Properties of the laser diode)\n",
    "    ----------------------\n",
    "    lda: wavelength. Units: nm\n",
    "    fwhm_slow: Full width at half maximum on the slow axis. Units: deg\n",
    "    fwhm_fast: Full width at half maximum on the fast axis. Units: deg\n",
    "    width: width of the emitting surface. Units: um\n",
    "    height: height of the emitting surface. Units: um\n",
    "    \"\"\"\n",
    "\n",
    "    def __init__(self, lda, fwhm_slow, fwhm_fast):\n",
    "        # TODO - check for validity and units.\n",
    "        self.lda = lda\n",
    "        self.FWHM_slow = fwhm_slow\n",
    "        self.FWHM_fast = fwhm_fast\n",
    "        # self.width = width\n",
    "        # self.height = height\n",
    "        # # calculate the emitting surface\n",
    "        # self.As = self.width * self.height\n",
    "\n",
    "        # calculate power distribution coefficients\n",
    "        self.l_coefficient = self.get_power_distribution_coefficient(self.FWHM_slow)\n",
    "        self.t_coefficient = self.get_power_distribution_coefficient(self.FWHM_fast)\n",
    "        # calculate gaussian beam parameters: half divergence angle, minimum half width and Rayleigh range\n",
    "        self.theta_slow, self.wo_slow, self.xo_slow = self.get_gaussian_beam_parameters(self.FWHM_slow)\n",
    "        self.theta_fast, self.wo_fast, self.xo_fast = self.get_gaussian_beam_parameters(self.FWHM_fast)\n",
    "\n",
    "    def get_power_distribution_coefficient(self, fwhm):\n",
    "        \"\"\"\n",
    "        Calculate power distribution coefficient. This coefficient is later used in the expression of the radiance\n",
    "        of laser diode. (Can be used for both the parallel and perpendicular coefficients). This calculation assumes\n",
    "        that the radiance distribution is circularly symmetric.\n",
    "\n",
    "        :return:\n",
    "        m: power distribution coefficient.\n",
    "        \"\"\"\n",
    "        # change the unit of the fwhm angle from deg to rad\n",
    "        fwhm_rad = np.deg2rad(fwhm)\n",
    "        # calculate the coefficient\n",
    "        m = np.log(0.5)/np.log(np.cos(fwhm_rad/2))\n",
    "        # take the integer part\n",
    "        m = np.floor(m)\n",
    "        return m\n",
    "\n",
    "    def get_gaussian_beam_parameters(self, fwhm):\n",
    "        \"\"\"\n",
    "        Calculate the half divergence angle, the beam minimum half width and the Rayleigh range from the FWHM.\n",
    "\n",
    "        :param:\n",
    "        fwhm: Full width at half maximum\n",
    "        :return:\n",
    "        theta: half divergence angle of the gaussian beam in radians.\n",
    "        wo: beam minimum half width.\n",
    "        xo: Rayleigh range.\n",
    "        \"\"\"\n",
    "        # change the unit of the fwhm angle from deg to rad\n",
    "        fwhm_rad = np.deg2rad(fwhm)\n",
    "        # calculate half divergence angle\n",
    "        theta = (np.sqrt(2) * fwhm_rad) / (2 * np.sqrt(np.log(2)))\n",
    "        # change lambda from nm to um\n",
    "        lda_um = self.lda * 1e-3\n",
    "        # derive the other two parameters\n",
    "        wo = lda_um / (np.pi * theta)\n",
    "        xo = np.pi * wo ** 2 / lda_um\n",
    "        return theta, wo, xo\n",
    "\n",
    "    def calculate_beam_width(self, x):\n",
    "        \"\"\"\n",
    "        Calculate the beam half width at a distance x from the origin. The half width is calculated for the slow and\n",
    "        fast axis, w_slow and w_fast.\n",
    "\n",
    "        :param:\n",
    "        x: distance, with respect to the origin, when the beam half width is calculated\n",
    "        :return:\n",
    "        w_slow: beam half width at a distance x from the source for the slow axis\n",
    "        w_fast: beam half width at a distance x from the source for the fast axis\n",
    "        \"\"\"\n",
    "        w_slow = self.wo_slow * np.sqrt(1 + (x / self.xo_slow) ** 2)\n",
    "        w_fast = self.wo_fast * np.sqrt(1 + (x / self.xo_fast) ** 2)\n",
    "        return w_slow, w_fast"
   ]
  },
  {
   "cell_type": "markdown",
   "metadata": {},
   "source": [
    "## 4. Define the Calculator class\n",
    "\n",
    "In this class we bring together the information of the laser diode and the waveguide, so that the coupling efficiency can be calculated.\n",
    "\n",
    "The efficiency of direct coupling of a source into an optical fiber is affected by three different factors.\n",
    "Theses factors are: geometrical losses, Fresnel losses and angular losses."
   ]
  },
  {
   "cell_type": "code",
   "execution_count": 6,
   "metadata": {},
   "outputs": [
    {
     "data": {
      "text/latex": [
       "$$ \\eta = \\frac{P_{input}}{P_{source}} = \\eta_{geo} \\cdot \\eta_{Fresnel} \\cdot \\eta_{ang} $$"
      ],
      "text/plain": [
       "<IPython.core.display.Latex object>"
      ]
     },
     "metadata": {},
     "output_type": "display_data"
    }
   ],
   "source": [
    "%%latex\n",
    "$$ \\eta = \\frac{P_{input}}{P_{source}} = \\eta_{geo} \\cdot \\eta_{Fresnel} \\cdot \\eta_{ang} $$"
   ]
  },
  {
   "cell_type": "markdown",
   "metadata": {},
   "source": [
    "where Pinput is the power coupled into the waveguide\n",
    "\n",
    "The functions/methods \"geometrical_losses(x)\" and \"fresnel_losses()\" and \"angular_losses()\"\n",
    "are defined inside the class to calculate the geometrical, fresnel and angular efficiency factors respectively.\n",
    "\n",
    "In addition, the \"total_efficiency()\" method calls the previous three functions and multiplies them to get the total efficiency."
   ]
  },
  {
   "cell_type": "markdown",
   "metadata": {},
   "source": [
    "### 1. Geometrical efficiency factor\n",
    "\n",
    "The light emmited by a light source will coupled into the waveguide depending on the relative spot size of the light source and the core area of the waveguide. \n",
    "\n",
    "If the laser diode has different divergence angles on each direction, the spot size will have an elliptic shape. Thus, the spot size area at a distance x from the light source can be calculated with the following formula:"
   ]
  },
  {
   "cell_type": "code",
   "execution_count": 3,
   "metadata": {},
   "outputs": [
    {
     "data": {
      "text/latex": [
       "$$ A_{spotsize}(x) = \\pi \\cdot w_{fast}(x) \\cdot w_{slow}(x) $$"
      ],
      "text/plain": [
       "<IPython.core.display.Latex object>"
      ]
     },
     "metadata": {},
     "output_type": "display_data"
    }
   ],
   "source": [
    "%%latex\n",
    "$$ A_{spotsize}(x) = \\pi \\cdot w_{fast}(x) \\cdot w_{slow}(x) $$"
   ]
  },
  {
   "cell_type": "markdown",
   "metadata": {},
   "source": [
    "where w_fast and w_slow is the beam half width at that distance x calculated for the fast and slow axis.\n",
    "\n",
    "The area of the waveguide is given by:"
   ]
  },
  {
   "cell_type": "code",
   "execution_count": 4,
   "metadata": {},
   "outputs": [
    {
     "data": {
      "text/latex": [
       "$$ A_{core} = t ^ 2 $$"
      ],
      "text/plain": [
       "<IPython.core.display.Latex object>"
      ]
     },
     "metadata": {},
     "output_type": "display_data"
    }
   ],
   "source": [
    "%%latex\n",
    "$$ A_{core} = t ^ 2 $$"
   ]
  },
  {
   "cell_type": "markdown",
   "metadata": {},
   "source": [
    "where t is the thickness of the waveguide's core."
   ]
  },
  {
   "cell_type": "markdown",
   "metadata": {},
   "source": [
    "The light incident outside the core area will not be guided by the waveguide. Therefore, there are three possible configurations for emmiter and waveguide are:\n",
    "\n",
    "a. If the source dimensions are smaller than the dimension of the waveguide core area, all the light will be coupled into the fiber."
   ]
  },
  {
   "cell_type": "code",
   "execution_count": 10,
   "metadata": {},
   "outputs": [
    {
     "data": {
      "text/latex": [
       "$$ if \\quad t \\geq w_{fast}(x) \\quad and \\quad t \\geq w_{slow}(x)  $$\n",
       "$$ then \\quad \\eta_{geo} = 1 $$"
      ],
      "text/plain": [
       "<IPython.core.display.Latex object>"
      ]
     },
     "metadata": {},
     "output_type": "display_data"
    }
   ],
   "source": [
    "%%latex\n",
    "$$ if \\quad t \\geq w_{fast}(x) \\quad and \\quad t \\geq w_{slow}(x)  $$\n",
    "$$ then \\quad \\eta_{geo} = 1 $$"
   ]
  },
  {
   "cell_type": "markdown",
   "metadata": {},
   "source": [
    "b. If the source is larger than the waveguide core area, the geometrical factor for coupling efficiency is given by the ratio of light captured by the fiber, i.e. the ratio of the areas."
   ]
  },
  {
   "cell_type": "code",
   "execution_count": 12,
   "metadata": {},
   "outputs": [
    {
     "data": {
      "text/latex": [
       "$$ if \\quad t < w_{fast}(x) \\quad and \\quad t < w_{slow}(x)  $$\n",
       "$$ then \\quad \\eta_{geo} = \\frac{A_{core}}{A_{spotsize}} $$"
      ],
      "text/plain": [
       "<IPython.core.display.Latex object>"
      ]
     },
     "metadata": {},
     "output_type": "display_data"
    }
   ],
   "source": [
    "%%latex\n",
    "$$ if \\quad t < w_{fast}(x) \\quad and \\quad t < w_{slow}(x)  $$\n",
    "$$ then \\quad \\eta_{geo} = \\frac{A_{core}}{A_{spotsize}} $$"
   ]
  },
  {
   "cell_type": "markdown",
   "metadata": {},
   "source": [
    "c. If the waveguide core area is larger than one side of the source, but smaller than the second side. The geometrical factor for coupling efficiency is given by the following ratio"
   ]
  },
  {
   "cell_type": "code",
   "execution_count": 17,
   "metadata": {},
   "outputs": [
    {
     "data": {
      "text/latex": [
       "$$ if \\quad t \\geq w_{fast}(x) \\quad and  \\quad t < w_{slow}(x) $$\n",
       "$$ then \\quad \\eta_{geo} = \\frac{t}{w_{slow}(x)} $$"
      ],
      "text/plain": [
       "<IPython.core.display.Latex object>"
      ]
     },
     "metadata": {},
     "output_type": "display_data"
    }
   ],
   "source": [
    "%%latex\n",
    "$$ if \\quad t \\geq w_{fast}(x) \\quad and  \\quad t < w_{slow}(x) $$\n",
    "$$ then \\quad \\eta_{geo} = \\frac{t}{w_{slow}(x)} $$"
   ]
  },
  {
   "cell_type": "code",
   "execution_count": 19,
   "metadata": {},
   "outputs": [
    {
     "data": {
      "text/latex": [
       "$$ if \\quad t < w_{fast}(x) \\quad and  \\quad t \\geq w_{slow}(x) $$\n",
       "$$ then \\quad \\eta_{geo} = \\frac{t}{w_{fast}(x)} $$"
      ],
      "text/plain": [
       "<IPython.core.display.Latex object>"
      ]
     },
     "metadata": {},
     "output_type": "display_data"
    }
   ],
   "source": [
    "%%latex\n",
    "$$ if \\quad t < w_{fast}(x) \\quad and  \\quad t \\geq w_{slow}(x) $$\n",
    "$$ then \\quad \\eta_{geo} = \\frac{t}{w_{fast}(x)} $$"
   ]
  },
  {
   "cell_type": "markdown",
   "metadata": {},
   "source": [
    "### 2. Frenesel efficiency factor\n",
    "\n",
    "The light incident on an interface between two dielectric media of different refractive index is partially transmitted and partially reflected (assuming linear, homogeneous and isotropic media).  The proportion of light reflected and transmitteddepend on light polarisation and incidence angle and can be calculated from Fresnel equations based on electromagnetic theory.\n",
    "\n",
    "The power reflectance at normal incidence is then given by:"
   ]
  },
  {
   "cell_type": "code",
   "execution_count": 20,
   "metadata": {},
   "outputs": [
    {
     "data": {
      "text/latex": [
       "$$ R = \\frac{(n_{core}-1)^2}{(n_{core}+1)^2} $$"
      ],
      "text/plain": [
       "<IPython.core.display.Latex object>"
      ]
     },
     "metadata": {},
     "output_type": "display_data"
    }
   ],
   "source": [
    "%%latex\n",
    "$$ R = \\frac{(n_{core}-1)^2}{(n_{core}+1)^2} $$"
   ]
  },
  {
   "cell_type": "markdown",
   "metadata": {},
   "source": [
    "and the Fresnel factor for coupling efficiency is approximatly equal to:"
   ]
  },
  {
   "cell_type": "code",
   "execution_count": 21,
   "metadata": {},
   "outputs": [
    {
     "data": {
      "text/latex": [
       "$$ \\eta_{Fresnel} = 1 - R $$"
      ],
      "text/plain": [
       "<IPython.core.display.Latex object>"
      ]
     },
     "metadata": {},
     "output_type": "display_data"
    }
   ],
   "source": [
    "%%latex\n",
    "$$ \\eta_{Fresnel} = 1 - R $$"
   ]
  },
  {
   "cell_type": "markdown",
   "metadata": {},
   "source": [
    "### 3. Angular efficiency factor\n",
    "\n",
    "Once that the source angular distribution and the fiber acceptance angle are well defined (see definition of the LaserDiode class), it can be demonstrated that the angular coupling efficiency factor is "
   ]
  },
  {
   "cell_type": "code",
   "execution_count": 18,
   "metadata": {},
   "outputs": [
    {
     "data": {
      "text/latex": [
       "$$\\eta_{angular} = 1 - (\\cos(\\theta))^{(m + 1)}$$"
      ],
      "text/plain": [
       "<IPython.core.display.Latex object>"
      ]
     },
     "metadata": {},
     "output_type": "display_data"
    }
   ],
   "source": [
    "%%latex\n",
    "$$\\eta_{angular} = 1 - (\\cos(\\theta))^{(m + 1)}$$"
   ]
  },
  {
   "cell_type": "markdown",
   "metadata": {},
   "source": [
    "In the case of coupling a laser diode to a waveguide, the emitter is not circularly symmetric and has different divergence angle depending of azimut angle. In fact, laser diodes typically have two main directions.  One direction with smaller dimension and higher divergence called fast axis, and another direction with larger dimension and lower divergence called slow axis. \n",
    "\n",
    "However, we can get a good approximate for coupling efficiency by calculating efficiency in both axis separatly, by supposing a revolution symmetry for both axis separatly, and multiply the square root of the computed efficiency for each axis.\n",
    "\n",
    "Therefore we will calculate the power distribution coefficients, m, for the slow and fast axis separatedly. The letter **L** will be used to denote the power distribution coefficient of the slow axis, and the letter **T** will be used for the fast axis.\n",
    "\n",
    "Once we have the power distribution coefficients **L** and **T**,"
   ]
  },
  {
   "cell_type": "code",
   "execution_count": null,
   "metadata": {},
   "outputs": [],
   "source": [
    "class Calculator(object):\n",
    "    \"\"\"\n",
    "    Calculate coupling efficiency between a laser diode and a squared waveguide.\n",
    "\n",
    "    class input attributes\n",
    "    ----------------------\n",
    "    waveguide: a SquareWaveguide object\n",
    "    laserdiode: a LaserDiode object\n",
    "    \"\"\"\n",
    "\n",
    "    def __init__(self, waveguide, laserdiode):\n",
    "        # check that the inputs are instances of the SquaredWaveguide and LaserDiode classes\n",
    "        if not isinstance(waveguide, SquaredWaveguide):\n",
    "            raise TypeError(\"waveguide input must be a SquaredWaveguide object.\")\n",
    "        if not isinstance(laserdiode, LaserDiode):\n",
    "            raise TypeError(\"laserdiode input must be a LaserDiode object.\")\n",
    "\n",
    "        self.wv = waveguide\n",
    "        self.ld = laserdiode\n",
    "\n",
    "    def geometrical_losses(self, x=0):\n",
    "        \"\"\"\n",
    "        Calculate the geometrical coupling efficiency factor when the waveguide is separated from the laser diode\n",
    "        by a distance of x.\n",
    "\n",
    "        :param:\n",
    "        x: distance of separation between the laser diode and the waveguide\n",
    "        :return:\n",
    "        n_geom: geometrical factor for coupling efficiency\n",
    "        \"\"\"\n",
    "\n",
    "        # give shorter names to the useful variables\n",
    "        wv_l = self.wv.core_thickness\n",
    "        # calculate the area of the spot size at a distance x from the light source\n",
    "        ld_w, ld_h = self.ld.calculate_beam_width(x)\n",
    "        # Note that the beam has an elliptical shape. Therefore, the area is given by pi*a*b,\n",
    "        # where a and b are the ellipse semi axis.\n",
    "        ld_A = np.pi * ld_h * ld_w\n",
    "\n",
    "        # initialize the value of n_geom\n",
    "        n_geom = 0\n",
    "\n",
    "        if wv_l >= ld_w and wv_l >= ld_h:\n",
    "            # if the source dimensions are smaller than the dimension of the waveguide core area,\n",
    "            # all the light will be coupled into the fiber.\n",
    "            n_geom = 1\n",
    "\n",
    "        elif wv_l < ld_w and wv_l < ld_h:\n",
    "            # if the source is larger than the waveguide core area, the geometrical factor for coupling efficiency\n",
    "            # is given by the ratio of light captured by the fiber, i.e. the ratio of the areas.\n",
    "            n_geom = (wv_l ** 2) / ld_A\n",
    "\n",
    "        elif wv_l < ld_w and wv_l >= ld_h:\n",
    "            # if the waveguide core area is larger than one side of the source, but smaller than the second side.\n",
    "            # The geometrical factor for coupling efficiency is given by the following ratio\n",
    "            n_geom = wv_l / ld_w\n",
    "\n",
    "        elif wv_l >= ld_w and wv_l < ld_h:\n",
    "            # if the waveguide core area is larger than one side of the source, but smaller than the second side.\n",
    "            # The geometrical factor for coupling efficiency is given by the following ratio\n",
    "            n_geom = wv_l / ld_h\n",
    "\n",
    "        return n_geom\n",
    "\n",
    "    def fresnel_losses(self):\n",
    "        \"\"\"\n",
    "        Calculate Fresnel coupling efficiency factor.\n",
    "\n",
    "        :return:\n",
    "        n_fresnel: Fresnel factor for coupling efficiency\n",
    "        \"\"\"\n",
    "        # give shorter names to the useful variables\n",
    "        n_core = self.wv.n_core\n",
    "        # calculate power reflectance\n",
    "        r = (n_core - 1)**2 / (n_core + 1)**2\n",
    "        n_fresnel = 1 - r\n",
    "        return n_fresnel\n",
    "\n",
    "    def angular_losses(self):\n",
    "        \"\"\"\n",
    "        Calculate angular coupling efficiency factor\n",
    "        (due to the spatial distribution of the power emitted by the source).\n",
    "\n",
    "        :return:\n",
    "        \"\"\"\n",
    "        # get relevant parameters\n",
    "        theta = self.wv.theta\n",
    "        k = self.ld.l_coefficient\n",
    "        t = self.ld.t_coefficient\n",
    "\n",
    "        # calculate the angular coupling for each perpendicular direction separately (assuming circular symmetry)\n",
    "        n_angular_l = 1 - (np.cos(theta)) ** (k + 1)\n",
    "        n_angular_t = 1 - (np.cos(theta)) ** (t + 1)\n",
    "        # approximate the total angular efficiency factor by multiplying the square roots of each individual factor.\n",
    "        n_angular = np.sqrt(n_angular_l * n_angular_t)\n",
    "        return n_angular\n",
    "\n",
    "    def total_efficiency(self, x):\n",
    "        \"\"\"\n",
    "        Calculate the total efficiency for a separation between the laser diode and the waveguide of x.\n",
    "        Multiplies the results of the geometrical, fresnel and angular efficiency factors.\n",
    "\n",
    "        :param:\n",
    "        x: distance of separation between the laser diode and the waveguide\n",
    "        :return:\n",
    "        n_total: coupling efficiency\n",
    "        \"\"\"\n",
    "        n_geom = self.geometrical_losses(x)\n",
    "        n_fresnel = self.fresnel_losses()\n",
    "        n_angular = self.angular_losses()\n",
    "        n_total = n_geom * n_fresnel * n_angular\n",
    "        return n_total"
   ]
  }
 ],
 "metadata": {
  "kernelspec": {
   "display_name": "Python 3",
   "language": "python",
   "name": "python3"
  },
  "language_info": {
   "codemirror_mode": {
    "name": "ipython",
    "version": 3
   },
   "file_extension": ".py",
   "mimetype": "text/x-python",
   "name": "python",
   "nbconvert_exporter": "python",
   "pygments_lexer": "ipython3",
   "version": "3.6.3"
  }
 },
 "nbformat": 4,
 "nbformat_minor": 2
}
